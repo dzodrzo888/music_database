{
 "cells": [
  {
   "cell_type": "code",
   "execution_count": null,
   "id": "23e8362e",
   "metadata": {},
   "outputs": [],
   "source": [
    "import pandas as pd\n"
   ]
  },
  {
   "cell_type": "code",
   "execution_count": null,
   "id": "7c015ae7",
   "metadata": {},
   "outputs": [],
   "source": [
    "df = pd.read"
   ]
  }
 ],
 "metadata": {
  "kernelspec": {
   "display_name": "Python (spotify_venv)",
   "language": "python",
   "name": "spotify_venv"
  },
  "language_info": {
   "codemirror_mode": {
    "name": "ipython",
    "version": 3
   },
   "file_extension": ".py",
   "mimetype": "text/x-python",
   "name": "python",
   "nbconvert_exporter": "python",
   "pygments_lexer": "ipython3",
   "version": "3.12.3"
  }
 },
 "nbformat": 4,
 "nbformat_minor": 5
}
